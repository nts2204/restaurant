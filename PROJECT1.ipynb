{
 "cells": [
  {
   "cell_type": "code",
   "execution_count": 1,
   "metadata": {},
   "outputs": [],
   "source": [
    "import pandas as pd\n",
    "import numpy as np\n",
    "from underthesea import word_tokenize, pos_tag, sent_tokenize\n",
    "import regex\n",
    "import demoji\n",
    "from pyvi import ViPosTagger, ViTokenizer\n",
    "import string\n",
    "from wordcloud import WordCloud\n",
    "import matplotlib.pyplot as plt"
   ]
  },
  {
   "cell_type": "code",
   "execution_count": 2,
   "metadata": {},
   "outputs": [
    {
     "name": "stdout",
     "output_type": "stream",
     "text": [
      "<class 'pandas.core.frame.DataFrame'>\n",
      "RangeIndex: 29959 entries, 0 to 29958\n",
      "Data columns (total 6 columns):\n",
      " #   Column        Non-Null Count  Dtype  \n",
      "---  ------        --------------  -----  \n",
      " 0   ID            29959 non-null  int64  \n",
      " 1   User          29959 non-null  object \n",
      " 2   Time          29959 non-null  object \n",
      " 3   Rating        29959 non-null  float64\n",
      " 4   Comment       29958 non-null  object \n",
      " 5   IDRestaurant  29959 non-null  int64  \n",
      "dtypes: float64(1), int64(2), object(3)\n",
      "memory usage: 1.4+ MB\n",
      "<class 'pandas.core.frame.DataFrame'>\n",
      "RangeIndex: 1622 entries, 0 to 1621\n",
      "Data columns (total 6 columns):\n",
      " #   Column      Non-Null Count  Dtype \n",
      "---  ------      --------------  ----- \n",
      " 0   ID          1622 non-null   int64 \n",
      " 1   Restaurant  1622 non-null   object\n",
      " 2   Address     1622 non-null   object\n",
      " 3   Time        773 non-null    object\n",
      " 4   Price       1622 non-null   object\n",
      " 5   District    1622 non-null   object\n",
      "dtypes: int64(1), object(5)\n",
      "memory usage: 76.2+ KB\n"
     ]
    },
    {
     "data": {
      "text/plain": [
       "(None,\n",
       " None,\n",
       "    ID          User              Time  Rating  \\\n",
       " 0   1       PHAN LE  20/12/2023 21:13     5.2   \n",
       " 1   2          Thúy   25/9/2023 15:43     5.0   \n",
       " 2   3   Quyên Quyên   24/6/2023 11:11     5.0   \n",
       " 3   4   Phương Thảo  22/12/2022 14:58     1.0   \n",
       " 4   5  Quỳnh Nguyễn   23/9/2022 22:40     4.2   \n",
       " \n",
       "                                              Comment  IDRestaurant  \n",
       " 0           Gà chiên còn sống, rất tanh. Khủng khiép             1  \n",
       " 1                             Đã ăn qua rồi, ăn ok ạ             1  \n",
       " 2                                    Đã thư rất ngon             1  \n",
       " 3  Tệ .. mua mang về cho 1 gói tương ớt. Và xin t...             1  \n",
       " 4  21h30...2 đứa nhỏ kêu đói, sau 1 hồi bình loạn...             1  ,\n",
       "    ID                                         Restaurant  \\\n",
       " 0   1                  Gà Rán & Burger McDonald's Đa Kao   \n",
       " 1   2  Cháo Trắng - Cháo Thịt Bằm BK House - Phạm Viế...   \n",
       " 2   3                    Texas Chicken - Nguyễn Thái Học   \n",
       " 3   4                                       Bếp Chay 365   \n",
       " 4   5                                 Bánh Canh Cua Linh   \n",
       " \n",
       "                                              Address           Time  \\\n",
       " 0           2 - 6 Bis Điện Biên Phủ, Quận 1, TP. HCM  00:00 - 23:59   \n",
       " 1  112B Phạm Viết Chánh, P. Nguyễn Cư Trinh, Quận...  00:00 - 23:59   \n",
       " 2              115 Nguyễn Thái Học , Quận 1, TP. HCM            NaN   \n",
       " 3  Tầng 1, 35 Nguyễn Văn Tráng, P. Bến Thành, Quậ...            NaN   \n",
       " 4      80A Điện Biên Phủ, P. Đa Kao, Quận 1, TP. HCM  06:20 - 22:00   \n",
       " \n",
       "               Price District  \n",
       " 0  50.000 - 200.000   Quận 1  \n",
       " 1    5.000 - 40.000   Quận 1  \n",
       " 2  30.000 - 300.000   Quận 1  \n",
       " 3   15.000 - 50.000   Quận 1  \n",
       " 4   25.000 - 35.000   Quận 1  )"
      ]
     },
     "execution_count": 2,
     "metadata": {},
     "output_type": "execute_result"
    }
   ],
   "source": [
    "reviews_df = pd.read_csv(\"2_Reviews.csv\")\n",
    "restaurants_df = pd.read_csv(\"1_Restaurants.csv\")\n",
    "\n",
    "info_reviews = reviews_df.info()\n",
    "info_restaurants = restaurants_df.info()\n",
    "\n",
    "sample_reviews = reviews_df.head()\n",
    "sample_restaurants = restaurants_df.head()\n",
    "\n",
    "info_reviews, info_restaurants, sample_reviews, sample_restaurants"
   ]
  },
  {
   "cell_type": "code",
   "execution_count": 3,
   "metadata": {},
   "outputs": [
    {
     "data": {
      "text/plain": [
       "0.0        7\n",
       "1.0     1216\n",
       "1.2       62\n",
       "1.4       60\n",
       "1.6       68\n",
       "1.8      158\n",
       "2.0      132\n",
       "2.2      121\n",
       "2.4       88\n",
       "2.6      278\n",
       "2.8      133\n",
       "3.0      173\n",
       "3.2      146\n",
       "3.4      429\n",
       "3.6      173\n",
       "3.8      217\n",
       "4.0      208\n",
       "4.2      469\n",
       "4.4      215\n",
       "4.6      220\n",
       "4.8      221\n",
       "5.0     1448\n",
       "5.2      155\n",
       "5.4      207\n",
       "5.6      257\n",
       "5.8      298\n",
       "6.0      742\n",
       "6.2      439\n",
       "6.4      524\n",
       "6.6      633\n",
       "6.8      786\n",
       "7.0     1750\n",
       "7.2     1238\n",
       "7.4     1310\n",
       "7.6     1290\n",
       "7.8     1223\n",
       "8.0     1997\n",
       "8.2     1104\n",
       "8.4      915\n",
       "8.6      885\n",
       "8.8      806\n",
       "9.0     1212\n",
       "9.2      651\n",
       "9.4      621\n",
       "9.6      723\n",
       "9.8      598\n",
       "10.0    3353\n",
       "Name: Rating, dtype: int64"
      ]
     },
     "execution_count": 3,
     "metadata": {},
     "output_type": "execute_result"
    }
   ],
   "source": [
    "rating_distribution = reviews_df['Rating'].value_counts().sort_index()\n",
    "rating_distribution"
   ]
  },
  {
   "cell_type": "code",
   "execution_count": 316,
   "metadata": {},
   "outputs": [],
   "source": [
    "'''Tích cực: Điểm đánh giá từ 7 trở lên.\n",
    "Trung tính: Điểm đánh giá từ 4 đến 6.9.\n",
    "Tiêu cực: Điểm đánh giá dưới 4.'''\n",
    "def label_rating(rating):\n",
    "    if rating >= 7:\n",
    "        return \"Positive\"\n",
    "    elif rating < 4:\n",
    "        return \"Negative\"\n",
    "    else:\n",
    "        return \"Neutral\"\n",
    "reviews_df['Sentiment'] = reviews_df['Rating'].apply(label_rating)"
   ]
  },
  {
   "cell_type": "code",
   "execution_count": 4,
   "metadata": {},
   "outputs": [],
   "source": [
    "##LOAD EMOJICON\n",
    "file = open('files/emojicon.txt', 'r', encoding=\"utf8\")\n",
    "emoji_lst = file.read().split('\\n')\n",
    "emoji_dict = {}\n",
    "for line in emoji_lst:\n",
    "    key, value = line.split('\\t')\n",
    "    emoji_dict[key] = str(value)\n",
    "file.close()\n",
    "#################\n",
    "#LOAD TEENCODE\n",
    "file = open('files/teencode.txt', 'r', encoding=\"utf8\")\n",
    "teen_lst = file.read().split('\\n')\n",
    "teen_dict = {}\n",
    "for line in teen_lst:\n",
    "    key, value = line.split('\\t')\n",
    "    teen_dict[key] = str(value)\n",
    "file.close()\n",
    "###############\n",
    "#LOAD TRANSLATE ENGLISH -> VNMESE\n",
    "file = open('files/english-vnmese.txt', 'r', encoding=\"utf8\")\n",
    "english_lst = file.read().split('\\n')\n",
    "english_dict = {}\n",
    "for line in english_lst:\n",
    "    key, value = line.split('\\t')\n",
    "    english_dict[key] = str(value)\n",
    "file.close()\n",
    "################\n",
    "#LOAD wrong words\n",
    "file = open('files/wrong-word.txt', 'r', encoding=\"utf8\")\n",
    "wrong_lst = file.read().split('\\n')\n",
    "file.close()\n",
    "#################\n",
    "#LOAD STOPWORDS\n",
    "file = open('files/vietnamese-stopwords.txt', 'r', encoding=\"utf8\")\n",
    "stopwords_lst = file.read().split('\\n')\n",
    "file.close()"
   ]
  },
  {
   "cell_type": "code",
   "execution_count": 5,
   "metadata": {},
   "outputs": [],
   "source": [
    "def process_text(text, emoji_dict, teen_dict):\n",
    "    document = text.lower()\n",
    "    document = document.replace(\"’\",'')\n",
    "    document = regex.sub(r'\\.+', \".\", document)\n",
    "    new_sentence =''\n",
    "    for sentence in sent_tokenize(document):\n",
    "        # if not(sentence.isascii()):\n",
    "        ###### CONVERT EMOJICON\n",
    "        sentence = ''.join(emoji_dict[word]+' ' if word in emoji_dict else word for word in list(sentence))\n",
    "        ###### CONVERT TEENCODE\n",
    "        sentence = ' '.join(teen_dict[word] if word in teen_dict else word for word in sentence.split())\n",
    "        ###### DEL Punctuation & Numbers\n",
    "        pattern = r'(?i)\\b[a-záàảãạăắằẳẵặâấầẩẫậéèẻẽẹêếềểễệóòỏõọôốồổỗộơớờởỡợíìỉĩịúùủũụưứừửữựýỳỷỹỵđ]+\\b'\n",
    "        sentence = ' '.join(regex.findall(pattern,sentence))\n",
    "        # ...\n",
    "        ###### DEL wrong words\n",
    "        # sentence = ' '.join('' if word in wrong_lst else word for word in sentence.split())\n",
    "        new_sentence = new_sentence+ sentence + '. '\n",
    "    document = new_sentence\n",
    "    #print(document)\n",
    "    ###### DEL excess blank space\n",
    "    document = regex.sub(r'\\s+', ' ', document).strip()\n",
    "    #...\n",
    "    return document\n",
    "\n",
    "# Chuẩn hóa unicode tiếng việt\n",
    "def loaddicchar():\n",
    "    uniChars = \"àáảãạâầấẩẫậăằắẳẵặèéẻẽẹêềếểễệđìíỉĩịòóỏõọôồốổỗộơờớởỡợùúủũụưừứửữựỳýỷỹỵÀÁẢÃẠÂẦẤẨẪẬĂẰẮẲẴẶÈÉẺẼẸÊỀẾỂỄỆĐÌÍỈĨỊÒÓỎÕỌÔỒỐỔỖỘƠỜỚỞỠỢÙÚỦŨỤƯỪỨỬỮỰỲÝỶỸỴÂĂĐÔƠƯ\"\n",
    "    unsignChars = \"aaaaaaaaaaaaaaaaaeeeeeeeeeeediiiiiooooooooooooooooouuuuuuuuuuuyyyyyAAAAAAAAAAAAAAAAAEEEEEEEEEEEDIIIOOOOOOOOOOOOOOOOOOOUUUUUUUUUUUYYYYYAADOOU\"\n",
    "\n",
    "    dic = {}\n",
    "    char1252 = 'à|á|ả|ã|ạ|ầ|ấ|ẩ|ẫ|ậ|ằ|ắ|ẳ|ẵ|ặ|è|é|ẻ|ẽ|ẹ|ề|ế|ể|ễ|ệ|ì|í|ỉ|ĩ|ị|ò|ó|ỏ|õ|ọ|ồ|ố|ổ|ỗ|ộ|ờ|ớ|ở|ỡ|ợ|ù|ú|ủ|ũ|ụ|ừ|ứ|ử|ữ|ự|ỳ|ý|ỷ|ỹ|ỵ|À|Á|Ả|Ã|Ạ|Ầ|Ấ|Ẩ|Ẫ|Ậ|Ằ|Ắ|Ẳ|Ẵ|Ặ|È|É|Ẻ|Ẽ|Ẹ|Ề|Ế|Ể|Ễ|Ệ|Ì|Í|Ỉ|Ĩ|Ị|Ò|Ó|Ỏ|Õ|Ọ|Ồ|Ố|Ổ|Ỗ|Ộ|Ờ|Ớ|Ở|Ỡ|Ợ|Ù|Ú|Ủ|Ũ|Ụ|Ừ|Ứ|Ử|Ữ|Ự|Ỳ|Ý|Ỷ|Ỹ|Ỵ'.split(\n",
    "        '|')\n",
    "    charutf8 = \"à|á|ả|ã|ạ|ầ|ấ|ẩ|ẫ|ậ|ằ|ắ|ẳ|ẵ|ặ|è|é|ẻ|ẽ|ẹ|ề|ế|ể|ễ|ệ|ì|í|ỉ|ĩ|ị|ò|ó|ỏ|õ|ọ|ồ|ố|ổ|ỗ|ộ|ờ|ớ|ở|ỡ|ợ|ù|ú|ủ|ũ|ụ|ừ|ứ|ử|ữ|ự|ỳ|ý|ỷ|ỹ|ỵ|À|Á|Ả|Ã|Ạ|Ầ|Ấ|Ẩ|Ẫ|Ậ|Ằ|Ắ|Ẳ|Ẵ|Ặ|È|É|Ẻ|Ẽ|Ẹ|Ề|Ế|Ể|Ễ|Ệ|Ì|Í|Ỉ|Ĩ|Ị|Ò|Ó|Ỏ|Õ|Ọ|Ồ|Ố|Ổ|Ỗ|Ộ|Ờ|Ớ|Ở|Ỡ|Ợ|Ù|Ú|Ủ|Ũ|Ụ|Ừ|Ứ|Ử|Ữ|Ự|Ỳ|Ý|Ỷ|Ỹ|Ỵ\".split(\n",
    "        '|')\n",
    "    for i in range(len(char1252)):\n",
    "        dic[char1252[i]] = charutf8[i]\n",
    "    return dic\n",
    "\n",
    "# Đưa toàn bộ dữ liệu qua hàm này để chuẩn hóa lại\n",
    "def covert_unicode(txt):\n",
    "    dicchar = loaddicchar()\n",
    "    return regex.sub(\n",
    "        r'à|á|ả|ã|ạ|ầ|ấ|ẩ|ẫ|ậ|ằ|ắ|ẳ|ẵ|ặ|è|é|ẻ|ẽ|ẹ|ề|ế|ể|ễ|ệ|ì|í|ỉ|ĩ|ị|ò|ó|ỏ|õ|ọ|ồ|ố|ổ|ỗ|ộ|ờ|ớ|ở|ỡ|ợ|ù|ú|ủ|ũ|ụ|ừ|ứ|ử|ữ|ự|ỳ|ý|ỷ|ỹ|ỵ|À|Á|Ả|Ã|Ạ|Ầ|Ấ|Ẩ|Ẫ|Ậ|Ằ|Ắ|Ẳ|Ẵ|Ặ|È|É|Ẻ|Ẽ|Ẹ|Ề|Ế|Ể|Ễ|Ệ|Ì|Í|Ỉ|Ĩ|Ị|Ò|Ó|Ỏ|Õ|Ọ|Ồ|Ố|Ổ|Ỗ|Ộ|Ờ|Ớ|Ở|Ỡ|Ợ|Ù|Ú|Ủ|Ũ|Ụ|Ừ|Ứ|Ử|Ữ|Ự|Ỳ|Ý|Ỷ|Ỹ|Ỵ',\n",
    "        lambda x: dicchar[x.group()], txt)\n",
    "\n",
    "def process_special_word(text):\n",
    "    # Các từ đặc biệt cần được ghép lại với nhau\n",
    "    special_words = ['không', 'chẳng', 'chả', 'khó','rối','chưa','thất','lỏng','kém']\n",
    "    new_text = ''\n",
    "    text_lst = text.split()\n",
    "    i = 0\n",
    "\n",
    "    # Duyệt qua từng từ trong văn bản\n",
    "    while i < len(text_lst):\n",
    "        word = text_lst[i]\n",
    "\n",
    "        # Nếu từ hiện tại là một trong các từ đặc biệt\n",
    "        if word in special_words:\n",
    "            next_idx = i + 1\n",
    "            \n",
    "            # Nếu từ tiếp theo tồn tại và không phải là từ đặc biệt\n",
    "            if next_idx < len(text_lst) and text_lst[next_idx] not in special_words:\n",
    "                # Ghép từ đặc biệt với từ tiếp theo bằng dấu gạch dưới\n",
    "                word = word + '_' + text_lst[next_idx]\n",
    "                i = next_idx  # Đặt chỉ số lặp sang từ sau từ tiếp theo\n",
    "\n",
    "        # Thêm từ vào văn bản mới\n",
    "        new_text += word + ' '\n",
    "        i += 1\n",
    "\n",
    "    return new_text.strip()\n",
    "\n",
    "\n",
    "import re\n",
    "# Hàm để chuẩn hóa các từ có ký tự lặp\n",
    "def normalize_repeated_characters(text):\n",
    "    # Thay thế mọi ký tự lặp liên tiếp bằng một ký tự đó\n",
    "    # Ví dụ: \"ngonnnn\" thành \"ngon\", \"thiệtttt\" thành \"thiệt\"\n",
    "    return re.sub(r'(.)\\1+', r'\\1', text)\n",
    "\n",
    "# Áp dụng hàm chuẩn hóa cho văn bản\n",
    "# print(normalize_repeated_characters(example))\n",
    "\n",
    "def process_postag_thesea(text):\n",
    "    new_document = ''\n",
    "    for sentence in sent_tokenize(text):\n",
    "       # sentence = sentence.replace('.','')\n",
    "        ###### POS tag\n",
    "       # lst_word_type = ['A', 'AB', 'V', 'VB', 'VY', 'R']\n",
    "        lst_word_type = ['N','Np','A','AB','V','VB','VY','R']\n",
    "        # lst_word_type = ['A','AB','V','VB','VY','R']\n",
    "        sentence = ' '.join( word[0] if word[1].upper() in lst_word_type else '' for word in pos_tag(process_special_word(sentence)))\n",
    "        new_document = new_document + sentence + ' '\n",
    "    ###### DEL excess blank space\n",
    "    new_document = regex.sub(r'\\s+', ' ', new_document).strip()\n",
    "    return new_document\n",
    "def remove_stopword(text, stopwords):\n",
    "    ###### REMOVE stop words\n",
    "    document = ' '.join('' if word in stopwords else word for word in text.split())\n",
    "    #print(document)\n",
    "    ###### DEL excess blank space\n",
    "    document = regex.sub(r'\\s+', ' ', document).strip()\n",
    "    return document"
   ]
  },
  {
   "cell_type": "code",
   "execution_count": 6,
   "metadata": {},
   "outputs": [],
   "source": [
    "positive_words = [\n",
    "    \"thích\", \"tốt\", \"xuất sắc\", \"tuyệt vời\", \"tuyệt hảo\", \"đẹp\", \"ổn\", \"ngon\",\n",
    "    \"hài lòng\", \"ưng ý\", \"hoàn hảo\", \"chất lượng\", \"thú vị\", \"nhanh\",\n",
    "    \"tiện lợi\", \"dễ sử dụng\", \"hiệu quả\", \"ấn tượng\",\n",
    "    \"nổi bật\", \"tận hưởng\", \"tốn ít thời gian\", \"thân thiện\", \"hấp dẫn\",\n",
    "    \"gợi cảm\", \"tươi mới\", \"lạ mắt\", \"cao cấp\", \"độc đáo\",\n",
    "    \"hợp khẩu vị\", \"rất tốt\", \"rất thích\", \"tận tâm\", \"đáng tin cậy\", \"đẳng cấp\",\n",
    "    \"hấp dẫn\", \"an tâm\", \"thỏa mãn\", \"thúc đẩy\",\n",
    "    \"cảm động\", \"phục vụ tốt\", \"làm hài lòng\", \"gây ấn tượng\", \"nổi trội\",\n",
    "    \"sáng tạo\", \"quý báu\", \"phù hợp\", \"tận tâm\",\n",
    "    \"hiếm có\", \"cải thiện\", \"hoà nhã\", \"chăm chỉ\", \"cẩn thận\",\n",
    "    \"vui vẻ\", \"sáng sủa\", \"hào hứng\", \"đam mê\", \"vừa vặn\", \"đáng tiền\"\n",
    "]\n",
    "\n",
    "negative_words = [\n",
    "    \"kém\", \"tệ\", \"đau\",\"tanh\", \"xấu\", \"dở\", \"ức\",\"tức\", \"buồn\", \"rối\", \"thô\", \"lâu\", \"chán\",\n",
    "    \"tối\", \"ít\", \"mờ\", \"mỏng\", \"lỏng_lẻo\", \"khó\",\"khóc\", \"cùi\", \"yếu\",\n",
    "    \"kém_chất lượng\", \"không_thích\", \"không_thú vị\", \"không_ổn\",\n",
    "    \"không_hợp\", \"không_đáng tin cậy\", \"không_chuyên nghiệp\",\n",
    "    \"không_phản hồi\", \"không_an toàn\", \"không_phù hợp\", \"không_thân thiện\", \n",
    "    \"không_linh hoạt\", \"không_đáng giá\", \"không_ấn tượng\", \"không_tốt\", \"chậm\",\n",
    "    \"khó_khăn\", \"phức_tạp\", \"khó_hiểu\", \"khó_chịu\", \"gây_khó_dễ\", \"rườm_rà\",\n",
    "    \"khó_truy cập\", \"thất_bại\", \"tồi_tệ\", \"khó_xử\", \"không_thể chấp nhận\",\n",
    "    \"không_rõ ràng\", \"không_chắc chắn\", \"rối_rắm\", \"không_tiện lợi\", \n",
    "    \"không_đáng tiền\", \"chưa đẹp\", \"không_đẹp\", \"không_ngon\"\n",
    "]\n",
    "\n",
    "def sentiment_score(text, positive_words, negative_words):\n",
    "    pos_count = neg_count = 0\n",
    "    for word in text.split():\n",
    "        if word in positive_words:\n",
    "            pos_count += 1\n",
    "        elif word in negative_words:\n",
    "            neg_count += 1\n",
    "    \n",
    "    if pos_count > neg_count:\n",
    "        return \"Positive\"\n",
    "    elif pos_count < neg_count:\n",
    "        return \"Negative\"\n",
    "    else:\n",
    "        return \"Neutral\"\n"
   ]
  },
  {
   "cell_type": "code",
   "execution_count": 7,
   "metadata": {},
   "outputs": [],
   "source": [
    "def optimized_process_text(text, emoji_dict, teen_dict, stop_words):\n",
    "    text = process_text(text, emoji_dict, teen_dict)  # Xử lý emoji, teen code và từ sai\n",
    "    text = covert_unicode(text)  # Chuyển đổi unicode\n",
    "    text = process_special_word(text)  # Xử lý từ đặc biệt và chuẩn hóa ký tự lặp lại\n",
    "    text = normalize_repeated_characters(text)\n",
    "    text = remove_stopword(text, stop_words)\n",
    "    text = process_postag_thesea(text)\n",
    "    \n",
    "    \n",
    "      # Loại bỏ stop words\n",
    "    return text\n",
    "\n",
    "reviews_df.dropna(subset=['Comment'], inplace=True)\n",
    "reviews_df['Processed_Comment'] = reviews_df['Comment'].apply(lambda x: optimized_process_text(x, emoji_dict, teen_dict, stopwords_lst))\n",
    "reviews_df\n",
    "reviews_df.to_csv('processed_reviews.csv', index=False)"
   ]
  },
  {
   "cell_type": "code",
   "execution_count": 8,
   "metadata": {},
   "outputs": [
    {
     "data": {
      "text/html": [
       "<div>\n",
       "<style scoped>\n",
       "    .dataframe tbody tr th:only-of-type {\n",
       "        vertical-align: middle;\n",
       "    }\n",
       "\n",
       "    .dataframe tbody tr th {\n",
       "        vertical-align: top;\n",
       "    }\n",
       "\n",
       "    .dataframe thead th {\n",
       "        text-align: right;\n",
       "    }\n",
       "</style>\n",
       "<table border=\"1\" class=\"dataframe\">\n",
       "  <thead>\n",
       "    <tr style=\"text-align: right;\">\n",
       "      <th></th>\n",
       "      <th>ID</th>\n",
       "      <th>User</th>\n",
       "      <th>Time</th>\n",
       "      <th>Rating</th>\n",
       "      <th>Comment</th>\n",
       "      <th>IDRestaurant</th>\n",
       "      <th>Processed_Comment</th>\n",
       "    </tr>\n",
       "  </thead>\n",
       "  <tbody>\n",
       "    <tr>\n",
       "      <th>0</th>\n",
       "      <td>1</td>\n",
       "      <td>PHAN LE</td>\n",
       "      <td>20/12/2023 21:13</td>\n",
       "      <td>5.2</td>\n",
       "      <td>Gà chiên còn sống, rất tanh. Khủng khiép</td>\n",
       "      <td>1</td>\n",
       "      <td>gà chiên sống tanh khủng khiép</td>\n",
       "    </tr>\n",
       "    <tr>\n",
       "      <th>1</th>\n",
       "      <td>2</td>\n",
       "      <td>Thúy</td>\n",
       "      <td>25/9/2023 15:43</td>\n",
       "      <td>5.0</td>\n",
       "      <td>Đã ăn qua rồi, ăn ok ạ</td>\n",
       "      <td>1</td>\n",
       "      <td>ok</td>\n",
       "    </tr>\n",
       "    <tr>\n",
       "      <th>2</th>\n",
       "      <td>3</td>\n",
       "      <td>Quyên Quyên</td>\n",
       "      <td>24/6/2023 11:11</td>\n",
       "      <td>5.0</td>\n",
       "      <td>Đã thư rất ngon</td>\n",
       "      <td>1</td>\n",
       "      <td>thư ngon</td>\n",
       "    </tr>\n",
       "    <tr>\n",
       "      <th>3</th>\n",
       "      <td>4</td>\n",
       "      <td>Phương Thảo</td>\n",
       "      <td>22/12/2022 14:58</td>\n",
       "      <td>1.0</td>\n",
       "      <td>Tệ .. mua mang về cho 1 gói tương ớt. Và xin t...</td>\n",
       "      <td>1</td>\n",
       "      <td>tệ mua gói tương ớt không_được tương fre mua m...</td>\n",
       "    </tr>\n",
       "    <tr>\n",
       "      <th>4</th>\n",
       "      <td>5</td>\n",
       "      <td>Quỳnh Nguyễn</td>\n",
       "      <td>23/9/2022 22:40</td>\n",
       "      <td>4.2</td>\n",
       "      <td>21h30...2 đứa nhỏ kêu đói, sau 1 hồi bình loạn...</td>\n",
       "      <td>1</td>\n",
       "      <td>kêu đói hồi bình loạn chốt mcdonal háo hức khe...</td>\n",
       "    </tr>\n",
       "  </tbody>\n",
       "</table>\n",
       "</div>"
      ],
      "text/plain": [
       "   ID          User              Time  Rating  \\\n",
       "0   1       PHAN LE  20/12/2023 21:13     5.2   \n",
       "1   2          Thúy   25/9/2023 15:43     5.0   \n",
       "2   3   Quyên Quyên   24/6/2023 11:11     5.0   \n",
       "3   4   Phương Thảo  22/12/2022 14:58     1.0   \n",
       "4   5  Quỳnh Nguyễn   23/9/2022 22:40     4.2   \n",
       "\n",
       "                                             Comment  IDRestaurant  \\\n",
       "0           Gà chiên còn sống, rất tanh. Khủng khiép             1   \n",
       "1                             Đã ăn qua rồi, ăn ok ạ             1   \n",
       "2                                    Đã thư rất ngon             1   \n",
       "3  Tệ .. mua mang về cho 1 gói tương ớt. Và xin t...             1   \n",
       "4  21h30...2 đứa nhỏ kêu đói, sau 1 hồi bình loạn...             1   \n",
       "\n",
       "                                   Processed_Comment  \n",
       "0                     gà chiên sống tanh khủng khiép  \n",
       "1                                                 ok  \n",
       "2                                           thư ngon  \n",
       "3  tệ mua gói tương ớt không_được tương fre mua m...  \n",
       "4  kêu đói hồi bình loạn chốt mcdonal háo hức khe...  "
      ]
     },
     "execution_count": 8,
     "metadata": {},
     "output_type": "execute_result"
    }
   ],
   "source": [
    "reviews_df.head()"
   ]
  },
  {
   "cell_type": "code",
   "execution_count": null,
   "metadata": {},
   "outputs": [],
   "source": [
    "'''reviews_df.dropna(subset=['Comment'], inplace=True)\n",
    "reviews_df['Processed_Comment'] = reviews_df['Comment'].apply(lambda x: process_text(x, emoji_dict, teen_dict, wrong_lst))\n",
    "reviews_df['Comment_covert_unicode'] = reviews_df['Processed_Comment'].apply(covert_unicode)\n",
    "reviews_df['Comment_process_special_word'] = reviews_df['Comment_covert_unicode'].apply(process_special_word)\n",
    "reviews_df['Comment_normalize_repeated_characters'] = reviews_df['Comment_process_special_word'].apply(normalize_repeated_characters)\n",
    "reviews_df['Comment_process_postag_thesea'] = reviews_df['Comment_normalize_repeated_characters'].apply(process_postag_thesea)\n",
    "reviews_df['Comment_remove_stopword'] = reviews_df['Comment_process_postag_thesea'].apply(lambda x: remove_stopword(x, stopwords_lst))\n",
    "reviews_df['Sentiment'] = reviews_df['Comment_remove_stopword'].apply(lambda x: sentiment_score(x, positive_words, negative_words))\n",
    "\n",
    "reviews_df.head()'''"
   ]
  },
  {
   "cell_type": "code",
   "execution_count": null,
   "metadata": {},
   "outputs": [],
   "source": [
    "'''reviews_df.dropna(subset=['Comment'], inplace=True)\n",
    "\n",
    "reviews_df['Processed_Comment'] = reviews_df['Comment'].apply(lambda x: process_text(x, emoji_dict, teen_dict, wrong_lst))\n",
    "reviews_df['Comment_covert_unicode'] = reviews_df['Processed_Comment'].apply(covert_unicode)\n",
    "reviews_df['Comment_process_special_word'] = reviews_df['Comment_covert_unicode'].apply(process_special_word)\n",
    "reviews_df['Comment_normalize_repeated_characters'] = reviews_df['Comment_process_special_word'].apply(normalize_repeated_characters)\n",
    "reviews_df['Comment_process_postag_thesea'] = reviews_df['Comment_normalize_repeated_characters'].apply(process_postag_thesea)\n",
    "reviews_df['Comment_remove_stopword'] = reviews_df['Comment_process_postag_thesea'].apply(remove_stopword)\n",
    "\n",
    "\n",
    "\n",
    "reviews_df['Sentiment'] = reviews_df['Processed_Comment'].apply(lambda x: sentiment_score(x, positive_words, negative_words))\n",
    "\n",
    "reviews_df.head()'''\n"
   ]
  },
  {
   "cell_type": "code",
   "execution_count": 9,
   "metadata": {},
   "outputs": [],
   "source": [
    "reviews_df['Sentiment'] = reviews_df['Processed_Comment'].apply(lambda x: sentiment_score(x, positive_words, negative_words))\n"
   ]
  },
  {
   "cell_type": "code",
   "execution_count": 10,
   "metadata": {},
   "outputs": [
    {
     "name": "stdout",
     "output_type": "stream",
     "text": [
      "                                   Processed_Comment Sentiment\n",
      "0                     gà chiên sống tanh khủng khiép  Negative\n",
      "1                                                 ok   Neutral\n",
      "2                                           thư ngon  Positive\n",
      "3  tệ mua gói tương ớt không_được tương fre mua m...  Negative\n",
      "4  kêu đói hồi bình loạn chốt mcdonal háo hức khe...  Negative\n"
     ]
    }
   ],
   "source": [
    "print(reviews_df[['Processed_Comment', 'Sentiment']].head())"
   ]
  },
  {
   "cell_type": "code",
   "execution_count": 11,
   "metadata": {},
   "outputs": [
    {
     "data": {
      "text/plain": [
       "(Positive    14647\n",
       " Neutral      6583\n",
       " Negative     2736\n",
       " Name: Sentiment, dtype: int64,\n",
       " Positive    3721\n",
       " Neutral     1609\n",
       " Negative     662\n",
       " Name: Sentiment, dtype: int64)"
      ]
     },
     "execution_count": 11,
     "metadata": {},
     "output_type": "execute_result"
    }
   ],
   "source": [
    "from sklearn.model_selection import train_test_split\n",
    "\n",
    "X_train, X_test, y_train, y_test = train_test_split(reviews_df['Processed_Comment'], reviews_df['Sentiment'], test_size=0.2, random_state=42)\n",
    "\n",
    "train_label_distribution = y_train.value_counts()\n",
    "test_label_distribution = y_test.value_counts()\n",
    "\n",
    "train_label_distribution, test_label_distribution"
   ]
  },
  {
   "cell_type": "code",
   "execution_count": 16,
   "metadata": {},
   "outputs": [],
   "source": [
    "import seaborn as sns\n",
    "import matplotlib.pyplot as plt"
   ]
  },
  {
   "cell_type": "code",
   "execution_count": 18,
   "metadata": {},
   "outputs": [
    {
     "data": {
      "image/png": "[encoded data removed]",
      "text/plain": [
       "<Figure size 1008x432 with 2 Axes>"
      ]
     },
     "metadata": {},
     "output_type": "display_data"
    }
   ],
   "source": [
    "train_label_distribution = pd.Series([300, 200, 100], index=['Positive', 'Neutral', 'Negative'])\n",
    "test_label_distribution = pd.Series([80, 50, 30], index=['Positive', 'Neutral', 'Negative'])\n",
    "\n",
    "# Plotting\n",
    "fig, axes = plt.subplots(1, 2, figsize=(14, 6), sharey=True)\n",
    "fig.suptitle('Label Distribution in Train and Test Sets')\n",
    "\n",
    "sns.barplot(ax=axes[0], x=train_label_distribution.index, y=train_label_distribution.values)\n",
    "axes[0].set_title('Training Set')\n",
    "axes[0].set_ylabel('Frequency')\n",
    "axes[0].set_xlabel('Sentiment')\n",
    "\n",
    "sns.barplot(ax=axes[1], x=test_label_distribution.index, y=test_label_distribution.values)\n",
    "axes[1].set_title('Testing Set')\n",
    "axes[1].set_xlabel('Sentiment')\n",
    "\n",
    "plt.tight_layout(rect=[0, 0.03, 1, 0.95])\n",
    "plt.show()"
   ]
  },
  {
   "cell_type": "code",
   "execution_count": 28,
   "metadata": {},
   "outputs": [
    {
     "name": "stderr",
     "output_type": "stream",
     "text": [
      "c:\\Users\\LVG\\AppData\\Local\\Programs\\Python\\Python39\\lib\\site-packages\\sklearn\\linear_model\\_logistic.py:458: ConvergenceWarning: lbfgs failed to converge (status=1):\n",
      "STOP: TOTAL NO. of ITERATIONS REACHED LIMIT.\n",
      "\n",
      "Increase the number of iterations (max_iter) or scale the data as shown in:\n",
      "    https://scikit-learn.org/stable/modules/preprocessing.html\n",
      "Please also refer to the documentation for alternative solver options:\n",
      "    https://scikit-learn.org/stable/modules/linear_model.html#logistic-regression\n",
      "  n_iter_i = _check_optimize_result(\n"
     ]
    },
    {
     "data": {
      "text/plain": [
       "(0.9042056074766355,\n",
       " '              precision    recall  f1-score   support\\n\\n    Negative       0.88      0.67      0.76       662\\n     Neutral       0.83      0.82      0.82      1609\\n    Positive       0.94      0.98      0.96      3721\\n\\n    accuracy                           0.90      5992\\n   macro avg       0.88      0.82      0.85      5992\\nweighted avg       0.90      0.90      0.90      5992\\n')"
      ]
     },
     "execution_count": 28,
     "metadata": {},
     "output_type": "execute_result"
    }
   ],
   "source": [
    "from sklearn.feature_extraction.text import TfidfVectorizer\n",
    "from sklearn.linear_model import LogisticRegression\n",
    "from sklearn.pipeline import Pipeline\n",
    "from sklearn.metrics import classification_report, accuracy_score\n",
    "\n",
    "# Tạo một pipeline kết hợp TF-IDF với Logistic Regression\n",
    "pipeline = Pipeline([\n",
    "    ('tfidf', TfidfVectorizer()),\n",
    "    ('classifier', LogisticRegression(random_state=42))\n",
    "])\n",
    "\n",
    "# Huấn luyện mô hình trên tập huấn luyện\n",
    "pipeline.fit(X_train, y_train)\n",
    "\n",
    "# Dự đoán trên tập kiểm tra\n",
    "y_pred = pipeline.predict(X_test)\n",
    "\n",
    "# Đánh giá mô hình\n",
    "accuracy = accuracy_score(y_test, y_pred)\n",
    "classification_rep = classification_report(y_test, y_pred)\n",
    "\n",
    "accuracy, classification_rep\n"
   ]
  },
  {
   "cell_type": "code",
   "execution_count": 29,
   "metadata": {},
   "outputs": [
    {
     "name": "stdout",
     "output_type": "stream",
     "text": [
      "              precision    recall  f1-score   support\n",
      "\n",
      "    Negative       0.88      0.67      0.76       662\n",
      "     Neutral       0.83      0.82      0.82      1609\n",
      "    Positive       0.94      0.98      0.96      3721\n",
      "\n",
      "    accuracy                           0.90      5992\n",
      "   macro avg       0.88      0.82      0.85      5992\n",
      "weighted avg       0.90      0.90      0.90      5992\n",
      "\n"
     ]
    }
   ],
   "source": [
    "print(classification_report(y_test, y_pred))"
   ]
  },
  {
   "cell_type": "code",
   "execution_count": 30,
   "metadata": {},
   "outputs": [
    {
     "data": {
      "image/png": "[encoded data removed]",
      "text/plain": [
       "<Figure size 576x432 with 2 Axes>"
      ]
     },
     "metadata": {},
     "output_type": "display_data"
    }
   ],
   "source": [
    "from sklearn.metrics import confusion_matrix, roc_curve, auc, RocCurveDisplay\n",
    "\n",
    "conf_matrix = confusion_matrix(y_test, y_pred)\n",
    "fig, ax = plt.subplots(figsize=(8, 6))\n",
    "sns.heatmap(conf_matrix, annot=True, fmt='d', cmap='Blues', ax=ax)\n",
    "ax.set_xlabel('Predicted labels')\n",
    "ax.set_ylabel('True labels')\n",
    "ax.set_title('Confusion Matrix')\n",
    "plt.show()"
   ]
  },
  {
   "cell_type": "code",
   "execution_count": 31,
   "metadata": {},
   "outputs": [
    {
     "name": "stdout",
     "output_type": "stream",
     "text": [
      "              precision    recall  f1-score   support\n",
      "\n",
      "    Negative       0.91      0.93      0.92       662\n",
      "     Neutral       0.91      0.96      0.93      1609\n",
      "    Positive       1.00      0.97      0.98      3721\n",
      "\n",
      "    accuracy                           0.96      5992\n",
      "   macro avg       0.94      0.95      0.94      5992\n",
      "weighted avg       0.96      0.96      0.96      5992\n",
      "\n"
     ]
    }
   ],
   "source": [
    "from sklearn.svm import SVC\n",
    "pipeline = Pipeline([\n",
    "    ('tfidf', TfidfVectorizer()),\n",
    "    ('classifier', SVC(class_weight='balanced', kernel='linear'))  \n",
    "])\n",
    "\n",
    "pipeline.fit(X_train, y_train)\n",
    "\n",
    "predictions = pipeline.predict(X_test)\n",
    "print(classification_report(y_test, predictions))"
   ]
  },
  {
   "cell_type": "code",
   "execution_count": 32,
   "metadata": {},
   "outputs": [
    {
     "data": {
      "image/png": "[encoded data removed]",
      "text/plain": [
       "<Figure size 576x432 with 2 Axes>"
      ]
     },
     "metadata": {},
     "output_type": "display_data"
    }
   ],
   "source": [
    "conf_matrix = confusion_matrix(y_test, predictions)\n",
    "fig, ax = plt.subplots(figsize=(8, 6))\n",
    "sns.heatmap(conf_matrix, annot=True, fmt='d', cmap='Blues', ax=ax)\n",
    "ax.set_xlabel('Predicted labels')\n",
    "ax.set_ylabel('True labels')\n",
    "ax.set_title('Confusion Matrix')\n",
    "plt.show()"
   ]
  },
  {
   "cell_type": "markdown",
   "metadata": {},
   "source": [
    "## SVM được cho là tốt hơn với các kết quả đồng đều và vượt trội, mô hình đạt được 96% accuracy, cao hơn so với khi dùng Logistics Regression với chỉ khoảng 90% accuracy\n"
   ]
  },
  {
   "cell_type": "code",
   "execution_count": 33,
   "metadata": {},
   "outputs": [
    {
     "data": {
      "text/plain": [
       "['svm_project1.joblib']"
      ]
     },
     "execution_count": 33,
     "metadata": {},
     "output_type": "execute_result"
    }
   ],
   "source": [
    "from joblib import dump\n",
    "dump(pipeline, 'svm_project1.joblib')\n"
   ]
  },
  {
   "cell_type": "code",
   "execution_count": 34,
   "metadata": {},
   "outputs": [],
   "source": [
    "from joblib import load\n",
    "model = load('svm_project1.joblib')"
   ]
  },
  {
   "cell_type": "code",
   "execution_count": 35,
   "metadata": {},
   "outputs": [
    {
     "name": "stdout",
     "output_type": "stream",
     "text": [
      "              precision    recall  f1-score   support\n",
      "\n",
      "    Negative       0.91      0.93      0.92       662\n",
      "     Neutral       0.91      0.96      0.93      1609\n",
      "    Positive       1.00      0.97      0.98      3721\n",
      "\n",
      "    accuracy                           0.96      5992\n",
      "   macro avg       0.94      0.95      0.94      5992\n",
      "weighted avg       0.96      0.96      0.96      5992\n",
      "\n"
     ]
    }
   ],
   "source": [
    "predictions = model.predict(X_test)\n",
    "print(classification_report(y_test, predictions))"
   ]
  }
 ],
 "metadata": {
  "kernelspec": {
   "display_name": "Python 3",
   "language": "python",
   "name": "python3"
  },
  "language_info": {
   "codemirror_mode": {
    "name": "ipython",
    "version": 3
   },
   "file_extension": ".py",
   "mimetype": "text/x-python",
   "name": "python",
   "nbconvert_exporter": "python",
   "pygments_lexer": "ipython3",
   "version": "3.9.13"
  }
 },
 "nbformat": 4,
 "nbformat_minor": 2
}
